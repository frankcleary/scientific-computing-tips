{
 "metadata": {
  "name": ""
 },
 "nbformat": 3,
 "nbformat_minor": 0,
 "worksheets": [
  {
   "cells": [
    {
     "cell_type": "code",
     "collapsed": false,
     "input": [
      "%matplotlib inline\n",
      "import pandas as pd\n",
      "import os\n",
      "import numpy as np\n",
      "import matplotlib.pyplot as plt\n",
      "try:\n",
      "    os.mkdir('../figures')\n",
      "except WindowsError:\n",
      "    print \"figures exists\""
     ],
     "language": "python",
     "metadata": {},
     "outputs": []
    },
    {
     "cell_type": "code",
     "collapsed": false,
     "input": [
      "data = pd.read_csv(\"../input/run_length_data.csv\")\n",
      "data.head()"
     ],
     "language": "python",
     "metadata": {},
     "outputs": []
    },
    {
     "cell_type": "code",
     "collapsed": false,
     "input": [
      "data.mean()"
     ],
     "language": "python",
     "metadata": {},
     "outputs": []
    },
    {
     "cell_type": "code",
     "collapsed": false,
     "input": [
      "data.mean().plot(kind='bar')"
     ],
     "language": "python",
     "metadata": {},
     "outputs": []
    },
    {
     "cell_type": "code",
     "collapsed": false,
     "input": [
      "data.hist()"
     ],
     "language": "python",
     "metadata": {},
     "outputs": []
    },
    {
     "cell_type": "code",
     "collapsed": false,
     "input": [
      "data.hist(color='k', alpha=0.5, bins=10)"
     ],
     "language": "python",
     "metadata": {},
     "outputs": []
    },
    {
     "cell_type": "code",
     "collapsed": false,
     "input": [
      "def fitline(x, mean, binsize, n, start):\n",
      "    y = 1/mean*np.exp(-(x-start)/mean)*n*binsize\n",
      "    return y\n",
      "\n",
      "def rlplot(col, start, stop, binsize):\n",
      "    x = np.arange(start + binsize/2, stop, .1) # xvals for fit line\n",
      "    decayconst = np.mean(col) - start \n",
      "    y = fitline(x, decayconst, binsize, len(col), start) # compute fit line\n",
      "    \n",
      "    plt.figure() # make a new figure\n",
      "    plt.hist(col.values, bins=np.arange(start, stop, binsize), color='k', alpha=0.5) # draw the histogram\n",
      "    plt.plot(x, y, color='k', linewidth=2) # add the fit lines\n",
      "    plt.title(col.name)\n",
      "    plt.savefig(\"../figures/\" + col.name + \"_runlength.eps\") # save as .eps\n",
      "    return decayconst\n",
      "\n",
      "start = .5172\n",
      "binsize = .5172\n",
      "stop = 12\n",
      "data.apply(rlplot, args=(start, stop, binsize)) # apply the plotting function to each column"
     ],
     "language": "python",
     "metadata": {},
     "outputs": []
    },
    {
     "cell_type": "code",
     "collapsed": false,
     "input": [],
     "language": "python",
     "metadata": {},
     "outputs": []
    }
   ],
   "metadata": {}
  }
 ]
}